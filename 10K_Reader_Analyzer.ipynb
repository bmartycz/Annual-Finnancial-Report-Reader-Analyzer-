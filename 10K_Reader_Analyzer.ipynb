{
 "cells": [
  {
   "cell_type": "code",
   "execution_count": null,
   "metadata": {},
   "outputs": [],
   "source": [
    "import numpy as np\n",
    "import pandas as pd\n",
    "import matplotlib.pyplot as plt\n",
    "import seaborn as sb"
   ]
  },
  {
   "cell_type": "code",
   "execution_count": null,
   "metadata": {},
   "outputs": [],
   "source": [
    "#OPEN SAVED 10K IN TXT FILE\n",
    "cotxt = open('Amazon2019.txt','r')\n",
    "\n",
    "#LOOK FOR AND COUNT POSITIVE AND NEGATIVE INDICATORS\n",
    "words = ['despite', 'risk', 'uncertain', 'advantage', 'disadvantage', 'debt', 'stock', 'acquire',\n",
    "         'increase', 'decrease', 'distribution', 'deficit', 'goal', 'growth', 'improvement', 'merger', 'lend',\n",
    "        'borrow', 'fire', 'Amazon']\n",
    "count = {}\n",
    "for elem in words: count[elem] = 0\n",
    "num_words = 0\n",
    "    \n",
    "for line in cotxt:\n",
    "        elements = line.split()\n",
    "        \n",
    "        for word in words: count[word] += elements.count(word)\n",
    "        num_words +=len(elem)\n",
    "            \n",
    "#DISPLAY THE COUNT, THE NUMBER OF WORDS AND THE ELEMENT             \n",
    "print(count)\n",
    "print(num_words)\n",
    "print(elem)"
   ]
  }
 ],
 "metadata": {
  "kernelspec": {
   "display_name": "Python 3",
   "language": "python",
   "name": "python3"
  },
  "language_info": {
   "name": "python",
   "version": "3.10.10"
  },
  "orig_nbformat": 4,
  "vscode": {
   "interpreter": {
    "hash": "0c9b280e57429b1862e90d5207424d66e822233016baa212e98560ab6150fd11"
   }
  }
 },
 "nbformat": 4,
 "nbformat_minor": 2
}
